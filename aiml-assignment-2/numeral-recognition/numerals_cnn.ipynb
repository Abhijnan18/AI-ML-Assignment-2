{
  "nbformat": 4,
  "nbformat_minor": 0,
  "metadata": {
    "colab": {
      "provenance": []
    },
    "kernelspec": {
      "name": "python3",
      "display_name": "Python 3"
    },
    "language_info": {
      "name": "python"
    }
  },
  "cells": [
    {
      "cell_type": "code",
      "execution_count": null,
      "metadata": {
        "id": "7ViCopxRZBTA"
      },
      "outputs": [],
      "source": [
        "import torch\n",
        "import torchvision"
      ]
    },
    {
      "cell_type": "code",
      "source": [
        "n_epochs = 3\n",
        "batch_size_train = 64\n",
        "batch_size_test = 1000\n",
        "learning_rate = 0.01\n",
        "momentum = 0.5\n",
        "log_interval = 10\n",
        "\n",
        "random_seed = 1\n",
        "torch.backends.cudnn.enabled = False\n",
        "torch.manual_seed(random_seed)"
      ],
      "metadata": {
        "colab": {
          "base_uri": "https://localhost:8080/"
        },
        "id": "NAKcAcy1Zkbd",
        "outputId": "8c6a66bb-d7c2-41a2-961a-fa61a8735dd9"
      },
      "execution_count": null,
      "outputs": [
        {
          "output_type": "execute_result",
          "data": {
            "text/plain": [
              "<torch._C.Generator at 0x7d4a3c0b9930>"
            ]
          },
          "metadata": {},
          "execution_count": 2
        }
      ]
    },
    {
      "cell_type": "code",
      "source": [
        "train_loader = torch.utils.data.DataLoader(\n",
        "  torchvision.datasets.MNIST('/files/', train=True, download=True,\n",
        "                             transform=torchvision.transforms.Compose([\n",
        "                               torchvision.transforms.ToTensor(),\n",
        "                               torchvision.transforms.Normalize(\n",
        "                                 (0.1307,), (0.3081,))\n",
        "                             ])),\n",
        "  batch_size=batch_size_train, shuffle=True)\n",
        "\n",
        "test_loader = torch.utils.data.DataLoader(\n",
        "  torchvision.datasets.MNIST('/files/', train=False, download=True,\n",
        "                             transform=torchvision.transforms.Compose([\n",
        "                               torchvision.transforms.ToTensor(),\n",
        "                               torchvision.transforms.Normalize(\n",
        "                                 (0.1307,), (0.3081,))\n",
        "                             ])),\n",
        "  batch_size=batch_size_test, shuffle=True)"
      ],
      "metadata": {
        "colab": {
          "base_uri": "https://localhost:8080/"
        },
        "id": "Pw4VqHtlZYEu",
        "outputId": "61d92c54-0800-4045-ba06-1a7546457d6b"
      },
      "execution_count": null,
      "outputs": [
        {
          "output_type": "stream",
          "name": "stdout",
          "text": [
            "Downloading http://yann.lecun.com/exdb/mnist/train-images-idx3-ubyte.gz\n",
            "Downloading http://yann.lecun.com/exdb/mnist/train-images-idx3-ubyte.gz to /files/MNIST/raw/train-images-idx3-ubyte.gz\n"
          ]
        },
        {
          "output_type": "stream",
          "name": "stderr",
          "text": [
            "100%|██████████| 9912422/9912422 [00:00<00:00, 92357015.67it/s]\n"
          ]
        },
        {
          "output_type": "stream",
          "name": "stdout",
          "text": [
            "Extracting /files/MNIST/raw/train-images-idx3-ubyte.gz to /files/MNIST/raw\n",
            "\n",
            "Downloading http://yann.lecun.com/exdb/mnist/train-labels-idx1-ubyte.gz\n",
            "Downloading http://yann.lecun.com/exdb/mnist/train-labels-idx1-ubyte.gz to /files/MNIST/raw/train-labels-idx1-ubyte.gz\n"
          ]
        },
        {
          "output_type": "stream",
          "name": "stderr",
          "text": [
            "100%|██████████| 28881/28881 [00:00<00:00, 31349817.24it/s]\n"
          ]
        },
        {
          "output_type": "stream",
          "name": "stdout",
          "text": [
            "Extracting /files/MNIST/raw/train-labels-idx1-ubyte.gz to /files/MNIST/raw\n",
            "\n",
            "Downloading http://yann.lecun.com/exdb/mnist/t10k-images-idx3-ubyte.gz\n",
            "Downloading http://yann.lecun.com/exdb/mnist/t10k-images-idx3-ubyte.gz to /files/MNIST/raw/t10k-images-idx3-ubyte.gz\n"
          ]
        },
        {
          "output_type": "stream",
          "name": "stderr",
          "text": [
            "100%|██████████| 1648877/1648877 [00:00<00:00, 29875164.25it/s]\n"
          ]
        },
        {
          "output_type": "stream",
          "name": "stdout",
          "text": [
            "Extracting /files/MNIST/raw/t10k-images-idx3-ubyte.gz to /files/MNIST/raw\n",
            "\n",
            "Downloading http://yann.lecun.com/exdb/mnist/t10k-labels-idx1-ubyte.gz\n",
            "Downloading http://yann.lecun.com/exdb/mnist/t10k-labels-idx1-ubyte.gz to /files/MNIST/raw/t10k-labels-idx1-ubyte.gz\n"
          ]
        },
        {
          "output_type": "stream",
          "name": "stderr",
          "text": [
            "100%|██████████| 4542/4542 [00:00<00:00, 5045161.22it/s]\n"
          ]
        },
        {
          "output_type": "stream",
          "name": "stdout",
          "text": [
            "Extracting /files/MNIST/raw/t10k-labels-idx1-ubyte.gz to /files/MNIST/raw\n",
            "\n"
          ]
        }
      ]
    },
    {
      "cell_type": "code",
      "source": [
        "examples = enumerate(test_loader)\n",
        "batch_idx, (example_data, example_targets) = next(examples)"
      ],
      "metadata": {
        "id": "a6VRd8KCZtHC"
      },
      "execution_count": null,
      "outputs": []
    },
    {
      "cell_type": "code",
      "source": [
        "example_data.shape"
      ],
      "metadata": {
        "colab": {
          "base_uri": "https://localhost:8080/"
        },
        "id": "B4jQfGYBZzPd",
        "outputId": "602a5241-15a5-4e26-8005-05366fdbb77f"
      },
      "execution_count": null,
      "outputs": [
        {
          "output_type": "execute_result",
          "data": {
            "text/plain": [
              "torch.Size([1000, 1, 28, 28])"
            ]
          },
          "metadata": {},
          "execution_count": 5
        }
      ]
    },
    {
      "cell_type": "code",
      "source": [
        "import matplotlib.pyplot as plt\n",
        "\n",
        "fig = plt.figure()\n",
        "for i in range(6):\n",
        "  plt.subplot(2,3,i+1)\n",
        "  plt.tight_layout()\n",
        "  plt.imshow(example_data[i][0], cmap='gray', interpolation='none')\n",
        "  plt.title(\"Ground Truth: {}\".format(example_targets[i]))\n",
        "  plt.xticks([])\n",
        "  plt.yticks([])\n",
        "fig"
      ],
      "metadata": {
        "colab": {
          "base_uri": "https://localhost:8080/",
          "height": 859
        },
        "id": "IeGRy2jIZ37s",
        "outputId": "960d03df-e926-4733-f4f7-b0f6383290e7"
      },
      "execution_count": null,
      "outputs": [
        {
          "output_type": "execute_result",
          "data": {
            "text/plain": [
              "<Figure size 640x480 with 6 Axes>"
            ],
            "image/png": "[encoded data removed]"
          },
          "metadata": {},
          "execution_count": 6
        },
        {
          "output_type": "display_data",
          "data": {
            "text/plain": [
              "<Figure size 640x480 with 6 Axes>"
            ],
            "image/png": "[encoded data removed]"
          },
          "metadata": {}
        }
      ]
    },
    {
      "cell_type": "code",
      "source": [
        "import torch.nn as nn\n",
        "import torch.nn.functional as F\n",
        "import torch.optim as optim"
      ],
      "metadata": {
        "id": "jkpYSg5CZ7Sy"
      },
      "execution_count": null,
      "outputs": []
    },
    {
      "cell_type": "code",
      "source": [
        "class Net(nn.Module):\n",
        "    def __init__(self):\n",
        "        super(Net, self).__init__()\n",
        "        self.conv1 = nn.Conv2d(1, 10, kernel_size=5)\n",
        "        self.conv2 = nn.Conv2d(10, 20, kernel_size=5)\n",
        "        self.conv2_drop = nn.Dropout2d()\n",
        "        self.fc1 = nn.Linear(320, 50)\n",
        "        self.fc2 = nn.Linear(50, 10)\n",
        "\n",
        "    def forward(self, x):\n",
        "        x = F.relu(F.max_pool2d(self.conv1(x), 2))\n",
        "        x = F.relu(F.max_pool2d(self.conv2_drop(self.conv2(x)), 2))\n",
        "        x = x.view(-1, 320)\n",
        "        x = F.relu(self.fc1(x))\n",
        "        x = F.dropout(x, training=self.training)\n",
        "        x = self.fc2(x)\n",
        "        return F.log_softmax(x)"
      ],
      "metadata": {
        "id": "Mt3ZIAbXaAZV"
      },
      "execution_count": null,
      "outputs": []
    },
    {
      "cell_type": "code",
      "source": [
        "network = Net()\n",
        "optimizer = optim.SGD(network.parameters(), lr=learning_rate,\n",
        "                      momentum=momentum)"
      ],
      "metadata": {
        "id": "8qU__h-yaELj"
      },
      "execution_count": null,
      "outputs": []
    },
    {
      "cell_type": "code",
      "source": [
        "train_losses = []\n",
        "train_counter = []\n",
        "test_losses = []\n",
        "test_counter = [i*len(train_loader.dataset) for i in range(n_epochs + 1)]"
      ],
      "metadata": {
        "id": "46IEEUaIaLPX"
      },
      "execution_count": null,
      "outputs": []
    },
    {
      "cell_type": "code",
      "source": [
        "def train(epoch):\n",
        "  network.train()\n",
        "  for batch_idx, (data, target) in enumerate(train_loader):\n",
        "    optimizer.zero_grad()\n",
        "    output = network(data)\n",
        "    loss = F.nll_loss(output, target)\n",
        "    loss.backward()\n",
        "    optimizer.step()\n",
        "    if batch_idx % log_interval == 0:\n",
        "      print('Train Epoch: {} [{}/{} ({:.0f}%)]\\tLoss: {:.6f}'.format(\n",
        "        epoch, batch_idx * len(data), len(train_loader.dataset),\n",
        "        100. * batch_idx / len(train_loader), loss.item()))\n",
        "      train_losses.append(loss.item())\n",
        "      train_counter.append(\n",
        "        (batch_idx*64) + ((epoch-1)*len(train_loader.dataset)))\n",
        "      # torch.save(network.state_dict(), '/results/model.pth')\n",
        "      # torch.save(optimizer.state_dict(), '/results/optimizer.pth')"
      ],
      "metadata": {
        "id": "ZouvXym7aO2y"
      },
      "execution_count": null,
      "outputs": []
    },
    {
      "cell_type": "code",
      "source": [
        "def test():\n",
        "  network.eval()\n",
        "  test_loss = 0\n",
        "  correct = 0\n",
        "  with torch.no_grad():\n",
        "    for data, target in test_loader:\n",
        "      output = network(data)\n",
        "      test_loss += F.nll_loss(output, target, size_average=False).item()\n",
        "      pred = output.data.max(1, keepdim=True)[1]\n",
        "      correct += pred.eq(target.data.view_as(pred)).sum()\n",
        "  test_loss /= len(test_loader.dataset)\n",
        "  test_losses.append(test_loss)\n",
        "  print('\\nTest set: Avg. loss: {:.4f}, Accuracy: {}/{} ({:.0f}%)\\n'.format(\n",
        "    test_loss, correct, len(test_loader.dataset),\n",
        "    100. * correct / len(test_loader.dataset)))"
      ],
      "metadata": {
        "id": "yoBaMkP8aSoT"
      },
      "execution_count": null,
      "outputs": []
    },
    {
      "cell_type": "code",
      "source": [
        "test()\n",
        "for epoch in range(1, n_epochs + 1):\n",
        "  train(epoch)\n",
        "  test()"
      ],
      "metadata": {
        "colab": {
          "base_uri": "https://localhost:8080/"
        },
        "id": "NXXeT9q7aXew",
        "outputId": "58137e90-d277-4486-f1b7-45e73133b436"
      },
      "execution_count": null,
      "outputs": [
        {
          "output_type": "stream",
          "name": "stderr",
          "text": [
            "<ipython-input-8-6c2218f37724>:17: UserWarning: Implicit dimension choice for log_softmax has been deprecated. Change the call to include dim=X as an argument.\n",
            "  return F.log_softmax(x)\n"
          ]
        },
        {
          "output_type": "stream",
          "name": "stdout",
          "text": [
            "\n",
            "Test set: Avg. loss: 2.3084, Accuracy: 923/10000 (9%)\n",
            "\n",
            "Train Epoch: 1 [0/60000 (0%)]\tLoss: 2.324247\n",
            "Train Epoch: 1 [640/60000 (1%)]\tLoss: 2.273413\n",
            "Train Epoch: 1 [1280/60000 (2%)]\tLoss: 2.252027\n",
            "Train Epoch: 1 [1920/60000 (3%)]\tLoss: 2.279411\n",
            "Train Epoch: 1 [2560/60000 (4%)]\tLoss: 2.259859\n",
            "Train Epoch: 1 [3200/60000 (5%)]\tLoss: 2.255871\n",
            "Train Epoch: 1 [3840/60000 (6%)]\tLoss: 2.175713\n",
            "Train Epoch: 1 [4480/60000 (7%)]\tLoss: 2.212805\n",
            "Train Epoch: 1 [5120/60000 (9%)]\tLoss: 2.093185\n",
            "Train Epoch: 1 [5760/60000 (10%)]\tLoss: 2.029723\n",
            "Train Epoch: 1 [6400/60000 (11%)]\tLoss: 1.901314\n",
            "Train Epoch: 1 [7040/60000 (12%)]\tLoss: 1.907668\n",
            "Train Epoch: 1 [7680/60000 (13%)]\tLoss: 1.777701\n",
            "Train Epoch: 1 [8320/60000 (14%)]\tLoss: 1.564114\n",
            "Train Epoch: 1 [8960/60000 (15%)]\tLoss: 1.369018\n",
            "Train Epoch: 1 [9600/60000 (16%)]\tLoss: 1.345432\n",
            "Train Epoch: 1 [10240/60000 (17%)]\tLoss: 1.406255\n",
            "Train Epoch: 1 [10880/60000 (18%)]\tLoss: 1.167964\n",
            "Train Epoch: 1 [11520/60000 (19%)]\tLoss: 1.430185\n",
            "Train Epoch: 1 [12160/60000 (20%)]\tLoss: 1.225760\n",
            "Train Epoch: 1 [12800/60000 (21%)]\tLoss: 1.081967\n",
            "Train Epoch: 1 [13440/60000 (22%)]\tLoss: 1.058360\n",
            "Train Epoch: 1 [14080/60000 (23%)]\tLoss: 1.321690\n",
            "Train Epoch: 1 [14720/60000 (25%)]\tLoss: 1.097609\n",
            "Train Epoch: 1 [15360/60000 (26%)]\tLoss: 0.977902\n",
            "Train Epoch: 1 [16000/60000 (27%)]\tLoss: 0.992847\n",
            "Train Epoch: 1 [16640/60000 (28%)]\tLoss: 1.209337\n",
            "Train Epoch: 1 [17280/60000 (29%)]\tLoss: 0.873801\n",
            "Train Epoch: 1 [17920/60000 (30%)]\tLoss: 0.950033\n",
            "Train Epoch: 1 [18560/60000 (31%)]\tLoss: 0.862424\n",
            "Train Epoch: 1 [19200/60000 (32%)]\tLoss: 0.792635\n",
            "Train Epoch: 1 [19840/60000 (33%)]\tLoss: 0.715658\n",
            "Train Epoch: 1 [20480/60000 (34%)]\tLoss: 0.928717\n",
            "Train Epoch: 1 [21120/60000 (35%)]\tLoss: 0.729515\n",
            "Train Epoch: 1 [21760/60000 (36%)]\tLoss: 0.685234\n",
            "Train Epoch: 1 [22400/60000 (37%)]\tLoss: 0.759988\n",
            "Train Epoch: 1 [23040/60000 (38%)]\tLoss: 0.570016\n",
            "Train Epoch: 1 [23680/60000 (39%)]\tLoss: 0.728797\n",
            "Train Epoch: 1 [24320/60000 (41%)]\tLoss: 0.759778\n",
            "Train Epoch: 1 [24960/60000 (42%)]\tLoss: 0.772270\n",
            "Train Epoch: 1 [25600/60000 (43%)]\tLoss: 0.663714\n",
            "Train Epoch: 1 [26240/60000 (44%)]\tLoss: 0.526203\n",
            "Train Epoch: 1 [26880/60000 (45%)]\tLoss: 0.531012\n",
            "Train Epoch: 1 [27520/60000 (46%)]\tLoss: 0.447924\n",
            "Train Epoch: 1 [28160/60000 (47%)]\tLoss: 0.712237\n",
            "Train Epoch: 1 [28800/60000 (48%)]\tLoss: 0.615754\n",
            "Train Epoch: 1 [29440/60000 (49%)]\tLoss: 0.585283\n",
            "Train Epoch: 1 [30080/60000 (50%)]\tLoss: 0.468361\n",
            "Train Epoch: 1 [30720/60000 (51%)]\tLoss: 0.722397\n",
            "Train Epoch: 1 [31360/60000 (52%)]\tLoss: 0.602414\n",
            "Train Epoch: 1 [32000/60000 (53%)]\tLoss: 0.471987\n",
            "Train Epoch: 1 [32640/60000 (54%)]\tLoss: 0.794991\n",
            "Train Epoch: 1 [33280/60000 (55%)]\tLoss: 0.558112\n",
            "Train Epoch: 1 [33920/60000 (57%)]\tLoss: 0.795298\n",
            "Train Epoch: 1 [34560/60000 (58%)]\tLoss: 0.709552\n",
            "Train Epoch: 1 [35200/60000 (59%)]\tLoss: 0.472709\n",
            "Train Epoch: 1 [35840/60000 (60%)]\tLoss: 0.901651\n",
            "Train Epoch: 1 [36480/60000 (61%)]\tLoss: 0.552915\n",
            "Train Epoch: 1 [37120/60000 (62%)]\tLoss: 0.272506\n",
            "Train Epoch: 1 [37760/60000 (63%)]\tLoss: 0.425919\n",
            "Train Epoch: 1 [38400/60000 (64%)]\tLoss: 0.779866\n",
            "Train Epoch: 1 [39040/60000 (65%)]\tLoss: 0.726821\n",
            "Train Epoch: 1 [39680/60000 (66%)]\tLoss: 0.759202\n",
            "Train Epoch: 1 [40320/60000 (67%)]\tLoss: 0.657275\n",
            "Train Epoch: 1 [40960/60000 (68%)]\tLoss: 0.749920\n",
            "Train Epoch: 1 [41600/60000 (69%)]\tLoss: 0.498354\n",
            "Train Epoch: 1 [42240/60000 (70%)]\tLoss: 0.669085\n",
            "Train Epoch: 1 [42880/60000 (71%)]\tLoss: 0.330633\n",
            "Train Epoch: 1 [43520/60000 (72%)]\tLoss: 0.499481\n",
            "Train Epoch: 1 [44160/60000 (74%)]\tLoss: 0.826900\n",
            "Train Epoch: 1 [44800/60000 (75%)]\tLoss: 0.524122\n",
            "Train Epoch: 1 [45440/60000 (76%)]\tLoss: 0.484091\n",
            "Train Epoch: 1 [46080/60000 (77%)]\tLoss: 0.469521\n",
            "Train Epoch: 1 [46720/60000 (78%)]\tLoss: 0.553125\n",
            "Train Epoch: 1 [47360/60000 (79%)]\tLoss: 0.513164\n",
            "Train Epoch: 1 [48000/60000 (80%)]\tLoss: 0.574477\n",
            "Train Epoch: 1 [48640/60000 (81%)]\tLoss: 0.903663\n",
            "Train Epoch: 1 [49280/60000 (82%)]\tLoss: 0.550658\n",
            "Train Epoch: 1 [49920/60000 (83%)]\tLoss: 0.511806\n",
            "Train Epoch: 1 [50560/60000 (84%)]\tLoss: 0.516975\n",
            "Train Epoch: 1 [51200/60000 (85%)]\tLoss: 0.676159\n",
            "Train Epoch: 1 [51840/60000 (86%)]\tLoss: 0.774448\n",
            "Train Epoch: 1 [52480/60000 (87%)]\tLoss: 0.566879\n",
            "Train Epoch: 1 [53120/60000 (88%)]\tLoss: 0.501848\n",
            "Train Epoch: 1 [53760/60000 (90%)]\tLoss: 0.626203\n",
            "Train Epoch: 1 [54400/60000 (91%)]\tLoss: 0.339842\n",
            "Train Epoch: 1 [55040/60000 (92%)]\tLoss: 0.495052\n",
            "Train Epoch: 1 [55680/60000 (93%)]\tLoss: 0.719572\n",
            "Train Epoch: 1 [56320/60000 (94%)]\tLoss: 0.532052\n",
            "Train Epoch: 1 [56960/60000 (95%)]\tLoss: 0.476769\n",
            "Train Epoch: 1 [57600/60000 (96%)]\tLoss: 0.329451\n",
            "Train Epoch: 1 [58240/60000 (97%)]\tLoss: 0.431193\n",
            "Train Epoch: 1 [58880/60000 (98%)]\tLoss: 0.394130\n",
            "Train Epoch: 1 [59520/60000 (99%)]\tLoss: 0.574806\n",
            "\n",
            "Test set: Avg. loss: 0.1864, Accuracy: 9468/10000 (95%)\n",
            "\n",
            "Train Epoch: 2 [0/60000 (0%)]\tLoss: 0.383181\n",
            "Train Epoch: 2 [640/60000 (1%)]\tLoss: 0.581132\n",
            "Train Epoch: 2 [1280/60000 (2%)]\tLoss: 0.421272\n",
            "Train Epoch: 2 [1920/60000 (3%)]\tLoss: 0.354368\n",
            "Train Epoch: 2 [2560/60000 (4%)]\tLoss: 0.673792\n",
            "Train Epoch: 2 [3200/60000 (5%)]\tLoss: 0.538508\n",
            "Train Epoch: 2 [3840/60000 (6%)]\tLoss: 0.560187\n",
            "Train Epoch: 2 [4480/60000 (7%)]\tLoss: 0.467287\n",
            "Train Epoch: 2 [5120/60000 (9%)]\tLoss: 0.467150\n",
            "Train Epoch: 2 [5760/60000 (10%)]\tLoss: 0.353444\n",
            "Train Epoch: 2 [6400/60000 (11%)]\tLoss: 0.352760\n",
            "Train Epoch: 2 [7040/60000 (12%)]\tLoss: 0.536544\n",
            "Train Epoch: 2 [7680/60000 (13%)]\tLoss: 0.376959\n",
            "Train Epoch: 2 [8320/60000 (14%)]\tLoss: 0.510820\n",
            "Train Epoch: 2 [8960/60000 (15%)]\tLoss: 0.240353\n",
            "Train Epoch: 2 [9600/60000 (16%)]\tLoss: 0.533576\n",
            "Train Epoch: 2 [10240/60000 (17%)]\tLoss: 0.519391\n",
            "Train Epoch: 2 [10880/60000 (18%)]\tLoss: 0.222103\n",
            "Train Epoch: 2 [11520/60000 (19%)]\tLoss: 0.334869\n",
            "Train Epoch: 2 [12160/60000 (20%)]\tLoss: 0.445500\n",
            "Train Epoch: 2 [12800/60000 (21%)]\tLoss: 0.567542\n",
            "Train Epoch: 2 [13440/60000 (22%)]\tLoss: 0.516467\n",
            "Train Epoch: 2 [14080/60000 (23%)]\tLoss: 0.409612\n",
            "Train Epoch: 2 [14720/60000 (25%)]\tLoss: 0.336808\n",
            "Train Epoch: 2 [15360/60000 (26%)]\tLoss: 0.626481\n",
            "Train Epoch: 2 [16000/60000 (27%)]\tLoss: 0.299186\n",
            "Train Epoch: 2 [16640/60000 (28%)]\tLoss: 0.363876\n",
            "Train Epoch: 2 [17280/60000 (29%)]\tLoss: 0.237245\n",
            "Train Epoch: 2 [17920/60000 (30%)]\tLoss: 0.231017\n",
            "Train Epoch: 2 [18560/60000 (31%)]\tLoss: 0.355099\n",
            "Train Epoch: 2 [19200/60000 (32%)]\tLoss: 0.392510\n",
            "Train Epoch: 2 [19840/60000 (33%)]\tLoss: 0.233890\n",
            "Train Epoch: 2 [20480/60000 (34%)]\tLoss: 0.226869\n",
            "Train Epoch: 2 [21120/60000 (35%)]\tLoss: 0.591003\n",
            "Train Epoch: 2 [21760/60000 (36%)]\tLoss: 0.300748\n",
            "Train Epoch: 2 [22400/60000 (37%)]\tLoss: 0.252298\n",
            "Train Epoch: 2 [23040/60000 (38%)]\tLoss: 0.579670\n",
            "Train Epoch: 2 [23680/60000 (39%)]\tLoss: 0.407609\n",
            "Train Epoch: 2 [24320/60000 (41%)]\tLoss: 0.215491\n",
            "Train Epoch: 2 [24960/60000 (42%)]\tLoss: 0.461591\n",
            "Train Epoch: 2 [25600/60000 (43%)]\tLoss: 0.365500\n",
            "Train Epoch: 2 [26240/60000 (44%)]\tLoss: 0.532085\n",
            "Train Epoch: 2 [26880/60000 (45%)]\tLoss: 0.563702\n",
            "Train Epoch: 2 [27520/60000 (46%)]\tLoss: 0.392938\n",
            "Train Epoch: 2 [28160/60000 (47%)]\tLoss: 0.576890\n",
            "Train Epoch: 2 [28800/60000 (48%)]\tLoss: 0.528151\n",
            "Train Epoch: 2 [29440/60000 (49%)]\tLoss: 0.172723\n",
            "Train Epoch: 2 [30080/60000 (50%)]\tLoss: 0.255561\n",
            "Train Epoch: 2 [30720/60000 (51%)]\tLoss: 0.293582\n",
            "Train Epoch: 2 [31360/60000 (52%)]\tLoss: 0.333817\n",
            "Train Epoch: 2 [32000/60000 (53%)]\tLoss: 0.286981\n",
            "Train Epoch: 2 [32640/60000 (54%)]\tLoss: 0.515594\n",
            "Train Epoch: 2 [33280/60000 (55%)]\tLoss: 0.342134\n",
            "Train Epoch: 2 [33920/60000 (57%)]\tLoss: 0.484708\n",
            "Train Epoch: 2 [34560/60000 (58%)]\tLoss: 0.255194\n",
            "Train Epoch: 2 [35200/60000 (59%)]\tLoss: 0.299079\n",
            "Train Epoch: 2 [35840/60000 (60%)]\tLoss: 0.240198\n",
            "Train Epoch: 2 [36480/60000 (61%)]\tLoss: 0.330018\n",
            "Train Epoch: 2 [37120/60000 (62%)]\tLoss: 0.253192\n",
            "Train Epoch: 2 [37760/60000 (63%)]\tLoss: 0.428255\n",
            "Train Epoch: 2 [38400/60000 (64%)]\tLoss: 0.185896\n",
            "Train Epoch: 2 [39040/60000 (65%)]\tLoss: 0.332567\n",
            "Train Epoch: 2 [39680/60000 (66%)]\tLoss: 0.335346\n",
            "Train Epoch: 2 [40320/60000 (67%)]\tLoss: 0.356549\n",
            "Train Epoch: 2 [40960/60000 (68%)]\tLoss: 0.186833\n",
            "Train Epoch: 2 [41600/60000 (69%)]\tLoss: 0.287693\n",
            "Train Epoch: 2 [42240/60000 (70%)]\tLoss: 0.362924\n",
            "Train Epoch: 2 [42880/60000 (71%)]\tLoss: 0.360428\n",
            "Train Epoch: 2 [43520/60000 (72%)]\tLoss: 0.464167\n",
            "Train Epoch: 2 [44160/60000 (74%)]\tLoss: 0.261519\n",
            "Train Epoch: 2 [44800/60000 (75%)]\tLoss: 0.438469\n",
            "Train Epoch: 2 [45440/60000 (76%)]\tLoss: 0.313580\n",
            "Train Epoch: 2 [46080/60000 (77%)]\tLoss: 0.304150\n",
            "Train Epoch: 2 [46720/60000 (78%)]\tLoss: 0.338654\n",
            "Train Epoch: 2 [47360/60000 (79%)]\tLoss: 0.147918\n",
            "Train Epoch: 2 [48000/60000 (80%)]\tLoss: 0.203057\n",
            "Train Epoch: 2 [48640/60000 (81%)]\tLoss: 0.394373\n",
            "Train Epoch: 2 [49280/60000 (82%)]\tLoss: 0.476071\n",
            "Train Epoch: 2 [49920/60000 (83%)]\tLoss: 0.236204\n",
            "Train Epoch: 2 [50560/60000 (84%)]\tLoss: 0.360978\n",
            "Train Epoch: 2 [51200/60000 (85%)]\tLoss: 0.274260\n",
            "Train Epoch: 2 [51840/60000 (86%)]\tLoss: 0.264833\n",
            "Train Epoch: 2 [52480/60000 (87%)]\tLoss: 0.154748\n",
            "Train Epoch: 2 [53120/60000 (88%)]\tLoss: 0.244445\n",
            "Train Epoch: 2 [53760/60000 (90%)]\tLoss: 0.372010\n",
            "Train Epoch: 2 [54400/60000 (91%)]\tLoss: 0.492614\n",
            "Train Epoch: 2 [55040/60000 (92%)]\tLoss: 0.310607\n",
            "Train Epoch: 2 [55680/60000 (93%)]\tLoss: 0.333295\n",
            "Train Epoch: 2 [56320/60000 (94%)]\tLoss: 0.323286\n",
            "Train Epoch: 2 [56960/60000 (95%)]\tLoss: 0.292997\n",
            "Train Epoch: 2 [57600/60000 (96%)]\tLoss: 0.548723\n",
            "Train Epoch: 2 [58240/60000 (97%)]\tLoss: 0.422861\n",
            "Train Epoch: 2 [58880/60000 (98%)]\tLoss: 0.496374\n",
            "Train Epoch: 2 [59520/60000 (99%)]\tLoss: 0.318427\n",
            "\n",
            "Test set: Avg. loss: 0.1201, Accuracy: 9655/10000 (97%)\n",
            "\n",
            "Train Epoch: 3 [0/60000 (0%)]\tLoss: 0.233877\n",
            "Train Epoch: 3 [640/60000 (1%)]\tLoss: 0.382110\n",
            "Train Epoch: 3 [1280/60000 (2%)]\tLoss: 0.386270\n",
            "Train Epoch: 3 [1920/60000 (3%)]\tLoss: 0.413525\n",
            "Train Epoch: 3 [2560/60000 (4%)]\tLoss: 0.450184\n",
            "Train Epoch: 3 [3200/60000 (5%)]\tLoss: 0.336316\n",
            "Train Epoch: 3 [3840/60000 (6%)]\tLoss: 0.331342\n",
            "Train Epoch: 3 [4480/60000 (7%)]\tLoss: 0.275099\n",
            "Train Epoch: 3 [5120/60000 (9%)]\tLoss: 0.345980\n",
            "Train Epoch: 3 [5760/60000 (10%)]\tLoss: 0.469176\n",
            "Train Epoch: 3 [6400/60000 (11%)]\tLoss: 0.227477\n",
            "Train Epoch: 3 [7040/60000 (12%)]\tLoss: 0.289099\n",
            "Train Epoch: 3 [7680/60000 (13%)]\tLoss: 0.247735\n",
            "Train Epoch: 3 [8320/60000 (14%)]\tLoss: 0.271661\n",
            "Train Epoch: 3 [8960/60000 (15%)]\tLoss: 0.217598\n",
            "Train Epoch: 3 [9600/60000 (16%)]\tLoss: 0.269280\n",
            "Train Epoch: 3 [10240/60000 (17%)]\tLoss: 0.264842\n",
            "Train Epoch: 3 [10880/60000 (18%)]\tLoss: 0.510644\n",
            "Train Epoch: 3 [11520/60000 (19%)]\tLoss: 0.360504\n",
            "Train Epoch: 3 [12160/60000 (20%)]\tLoss: 0.373492\n",
            "Train Epoch: 3 [12800/60000 (21%)]\tLoss: 0.294231\n",
            "Train Epoch: 3 [13440/60000 (22%)]\tLoss: 0.254386\n",
            "Train Epoch: 3 [14080/60000 (23%)]\tLoss: 0.350825\n",
            "Train Epoch: 3 [14720/60000 (25%)]\tLoss: 0.275660\n",
            "Train Epoch: 3 [15360/60000 (26%)]\tLoss: 0.321656\n",
            "Train Epoch: 3 [16000/60000 (27%)]\tLoss: 0.267310\n",
            "Train Epoch: 3 [16640/60000 (28%)]\tLoss: 0.347091\n",
            "Train Epoch: 3 [17280/60000 (29%)]\tLoss: 0.368706\n",
            "Train Epoch: 3 [17920/60000 (30%)]\tLoss: 0.187152\n",
            "Train Epoch: 3 [18560/60000 (31%)]\tLoss: 0.322103\n",
            "Train Epoch: 3 [19200/60000 (32%)]\tLoss: 0.253208\n",
            "Train Epoch: 3 [19840/60000 (33%)]\tLoss: 0.198628\n",
            "Train Epoch: 3 [20480/60000 (34%)]\tLoss: 0.286562\n",
            "Train Epoch: 3 [21120/60000 (35%)]\tLoss: 0.303777\n",
            "Train Epoch: 3 [21760/60000 (36%)]\tLoss: 0.360816\n",
            "Train Epoch: 3 [22400/60000 (37%)]\tLoss: 0.405202\n",
            "Train Epoch: 3 [23040/60000 (38%)]\tLoss: 0.335976\n",
            "Train Epoch: 3 [23680/60000 (39%)]\tLoss: 0.370720\n",
            "Train Epoch: 3 [24320/60000 (41%)]\tLoss: 0.213637\n",
            "Train Epoch: 3 [24960/60000 (42%)]\tLoss: 0.263994\n",
            "Train Epoch: 3 [25600/60000 (43%)]\tLoss: 0.153251\n",
            "Train Epoch: 3 [26240/60000 (44%)]\tLoss: 0.527760\n",
            "Train Epoch: 3 [26880/60000 (45%)]\tLoss: 0.384513\n",
            "Train Epoch: 3 [27520/60000 (46%)]\tLoss: 0.239414\n",
            "Train Epoch: 3 [28160/60000 (47%)]\tLoss: 0.244562\n",
            "Train Epoch: 3 [28800/60000 (48%)]\tLoss: 0.348776\n",
            "Train Epoch: 3 [29440/60000 (49%)]\tLoss: 0.314460\n",
            "Train Epoch: 3 [30080/60000 (50%)]\tLoss: 0.236986\n",
            "Train Epoch: 3 [30720/60000 (51%)]\tLoss: 0.287191\n",
            "Train Epoch: 3 [31360/60000 (52%)]\tLoss: 0.210782\n",
            "Train Epoch: 3 [32000/60000 (53%)]\tLoss: 0.473858\n",
            "Train Epoch: 3 [32640/60000 (54%)]\tLoss: 0.641029\n",
            "Train Epoch: 3 [33280/60000 (55%)]\tLoss: 0.191264\n",
            "Train Epoch: 3 [33920/60000 (57%)]\tLoss: 0.263363\n",
            "Train Epoch: 3 [34560/60000 (58%)]\tLoss: 0.315138\n",
            "Train Epoch: 3 [35200/60000 (59%)]\tLoss: 0.350746\n",
            "Train Epoch: 3 [35840/60000 (60%)]\tLoss: 0.217079\n",
            "Train Epoch: 3 [36480/60000 (61%)]\tLoss: 0.323073\n",
            "Train Epoch: 3 [37120/60000 (62%)]\tLoss: 0.245998\n",
            "Train Epoch: 3 [37760/60000 (63%)]\tLoss: 0.443843\n",
            "Train Epoch: 3 [38400/60000 (64%)]\tLoss: 0.448720\n",
            "Train Epoch: 3 [39040/60000 (65%)]\tLoss: 0.288920\n",
            "Train Epoch: 3 [39680/60000 (66%)]\tLoss: 0.408353\n",
            "Train Epoch: 3 [40320/60000 (67%)]\tLoss: 0.364571\n",
            "Train Epoch: 3 [40960/60000 (68%)]\tLoss: 0.272243\n",
            "Train Epoch: 3 [41600/60000 (69%)]\tLoss: 0.250425\n",
            "Train Epoch: 3 [42240/60000 (70%)]\tLoss: 0.273936\n",
            "Train Epoch: 3 [42880/60000 (71%)]\tLoss: 0.254884\n",
            "Train Epoch: 3 [43520/60000 (72%)]\tLoss: 0.394401\n",
            "Train Epoch: 3 [44160/60000 (74%)]\tLoss: 0.210074\n",
            "Train Epoch: 3 [44800/60000 (75%)]\tLoss: 0.417798\n",
            "Train Epoch: 3 [45440/60000 (76%)]\tLoss: 0.227254\n",
            "Train Epoch: 3 [46080/60000 (77%)]\tLoss: 0.270863\n",
            "Train Epoch: 3 [46720/60000 (78%)]\tLoss: 0.325176\n",
            "Train Epoch: 3 [47360/60000 (79%)]\tLoss: 0.407958\n",
            "Train Epoch: 3 [48000/60000 (80%)]\tLoss: 0.340271\n",
            "Train Epoch: 3 [48640/60000 (81%)]\tLoss: 0.315684\n",
            "Train Epoch: 3 [49280/60000 (82%)]\tLoss: 0.493045\n",
            "Train Epoch: 3 [49920/60000 (83%)]\tLoss: 0.494565\n",
            "Train Epoch: 3 [50560/60000 (84%)]\tLoss: 0.190896\n",
            "Train Epoch: 3 [51200/60000 (85%)]\tLoss: 0.433589\n",
            "Train Epoch: 3 [51840/60000 (86%)]\tLoss: 0.195778\n",
            "Train Epoch: 3 [52480/60000 (87%)]\tLoss: 0.318102\n",
            "Train Epoch: 3 [53120/60000 (88%)]\tLoss: 0.212260\n",
            "Train Epoch: 3 [53760/60000 (90%)]\tLoss: 0.141704\n",
            "Train Epoch: 3 [54400/60000 (91%)]\tLoss: 0.317199\n",
            "Train Epoch: 3 [55040/60000 (92%)]\tLoss: 0.266141\n",
            "Train Epoch: 3 [55680/60000 (93%)]\tLoss: 0.341661\n",
            "Train Epoch: 3 [56320/60000 (94%)]\tLoss: 0.501358\n",
            "Train Epoch: 3 [56960/60000 (95%)]\tLoss: 0.250763\n",
            "Train Epoch: 3 [57600/60000 (96%)]\tLoss: 0.222909\n",
            "Train Epoch: 3 [58240/60000 (97%)]\tLoss: 0.288577\n",
            "Train Epoch: 3 [58880/60000 (98%)]\tLoss: 0.449925\n",
            "Train Epoch: 3 [59520/60000 (99%)]\tLoss: 0.430827\n",
            "\n",
            "Test set: Avg. loss: 0.0973, Accuracy: 9702/10000 (97%)\n",
            "\n"
          ]
        }
      ]
    },
    {
      "cell_type": "code",
      "source": [
        "fig = plt.figure()\n",
        "plt.plot(train_counter, train_losses, color='blue')\n",
        "plt.scatter(test_counter, test_losses, color='red')\n",
        "plt.legend(['Train Loss', 'Test Loss'], loc='upper right')\n",
        "plt.xlabel('number of training examples seen')\n",
        "plt.ylabel('negative log likelihood loss')\n",
        "fig"
      ],
      "metadata": {
        "colab": {
          "base_uri": "https://localhost:8080/",
          "height": 769
        },
        "id": "oArAGR1OaiOe",
        "outputId": "e341a423-bf95-47da-806b-cd6c5702675f"
      },
      "execution_count": null,
      "outputs": [
        {
          "output_type": "error",
          "ename": "ValueError",
          "evalue": "x and y must be the same size",
          "traceback": [
            "\u001b[0;31m---------------------------------------------------------------------------\u001b[0m",
            "\u001b[0;31mValueError\u001b[0m                                Traceback (most recent call last)",
            "\u001b[0;32m<ipython-input-16-2ddd02f2bec4>\u001b[0m in \u001b[0;36m<cell line: 3>\u001b[0;34m()\u001b[0m\n\u001b[1;32m      1\u001b[0m \u001b[0mfig\u001b[0m \u001b[0;34m=\u001b[0m \u001b[0mplt\u001b[0m\u001b[0;34m.\u001b[0m\u001b[0mfigure\u001b[0m\u001b[0;34m(\u001b[0m\u001b[0;34m)\u001b[0m\u001b[0;34m\u001b[0m\u001b[0;34m\u001b[0m\u001b[0m\n\u001b[1;32m      2\u001b[0m \u001b[0mplt\u001b[0m\u001b[0;34m.\u001b[0m\u001b[0mplot\u001b[0m\u001b[0;34m(\u001b[0m\u001b[0mtrain_counter\u001b[0m\u001b[0;34m,\u001b[0m \u001b[0mtrain_losses\u001b[0m\u001b[0;34m,\u001b[0m \u001b[0mcolor\u001b[0m\u001b[0;34m=\u001b[0m\u001b[0;34m'blue'\u001b[0m\u001b[0;34m)\u001b[0m\u001b[0;34m\u001b[0m\u001b[0;34m\u001b[0m\u001b[0m\n\u001b[0;32m----> 3\u001b[0;31m \u001b[0mplt\u001b[0m\u001b[0;34m.\u001b[0m\u001b[0mscatter\u001b[0m\u001b[0;34m(\u001b[0m\u001b[0mtest_counter\u001b[0m\u001b[0;34m,\u001b[0m \u001b[0mtest_losses\u001b[0m\u001b[0;34m,\u001b[0m \u001b[0mcolor\u001b[0m\u001b[0;34m=\u001b[0m\u001b[0;34m'red'\u001b[0m\u001b[0;34m)\u001b[0m\u001b[0;34m\u001b[0m\u001b[0;34m\u001b[0m\u001b[0m\n\u001b[0m\u001b[1;32m      4\u001b[0m \u001b[0mplt\u001b[0m\u001b[0;34m.\u001b[0m\u001b[0mlegend\u001b[0m\u001b[0;34m(\u001b[0m\u001b[0;34m[\u001b[0m\u001b[0;34m'Train Loss'\u001b[0m\u001b[0;34m,\u001b[0m \u001b[0;34m'Test Loss'\u001b[0m\u001b[0;34m]\u001b[0m\u001b[0;34m,\u001b[0m \u001b[0mloc\u001b[0m\u001b[0;34m=\u001b[0m\u001b[0;34m'upper right'\u001b[0m\u001b[0;34m)\u001b[0m\u001b[0;34m\u001b[0m\u001b[0;34m\u001b[0m\u001b[0m\n\u001b[1;32m      5\u001b[0m \u001b[0mplt\u001b[0m\u001b[0;34m.\u001b[0m\u001b[0mxlabel\u001b[0m\u001b[0;34m(\u001b[0m\u001b[0;34m'number of training examples seen'\u001b[0m\u001b[0;34m)\u001b[0m\u001b[0;34m\u001b[0m\u001b[0;34m\u001b[0m\u001b[0m\n",
            "\u001b[0;32m/usr/local/lib/python3.10/dist-packages/matplotlib/pyplot.py\u001b[0m in \u001b[0;36mscatter\u001b[0;34m(x, y, s, c, marker, cmap, norm, vmin, vmax, alpha, linewidths, edgecolors, plotnonfinite, data, **kwargs)\u001b[0m\n\u001b[1;32m   2860\u001b[0m         \u001b[0mvmin\u001b[0m\u001b[0;34m=\u001b[0m\u001b[0;32mNone\u001b[0m\u001b[0;34m,\u001b[0m \u001b[0mvmax\u001b[0m\u001b[0;34m=\u001b[0m\u001b[0;32mNone\u001b[0m\u001b[0;34m,\u001b[0m \u001b[0malpha\u001b[0m\u001b[0;34m=\u001b[0m\u001b[0;32mNone\u001b[0m\u001b[0;34m,\u001b[0m \u001b[0mlinewidths\u001b[0m\u001b[0;34m=\u001b[0m\u001b[0;32mNone\u001b[0m\u001b[0;34m,\u001b[0m \u001b[0;34m*\u001b[0m\u001b[0;34m,\u001b[0m\u001b[0;34m\u001b[0m\u001b[0;34m\u001b[0m\u001b[0m\n\u001b[1;32m   2861\u001b[0m         edgecolors=None, plotnonfinite=False, data=None, **kwargs):\n\u001b[0;32m-> 2862\u001b[0;31m     __ret = gca().scatter(\n\u001b[0m\u001b[1;32m   2863\u001b[0m         \u001b[0mx\u001b[0m\u001b[0;34m,\u001b[0m \u001b[0my\u001b[0m\u001b[0;34m,\u001b[0m \u001b[0ms\u001b[0m\u001b[0;34m=\u001b[0m\u001b[0ms\u001b[0m\u001b[0;34m,\u001b[0m \u001b[0mc\u001b[0m\u001b[0;34m=\u001b[0m\u001b[0mc\u001b[0m\u001b[0;34m,\u001b[0m \u001b[0mmarker\u001b[0m\u001b[0;34m=\u001b[0m\u001b[0mmarker\u001b[0m\u001b[0;34m,\u001b[0m \u001b[0mcmap\u001b[0m\u001b[0;34m=\u001b[0m\u001b[0mcmap\u001b[0m\u001b[0;34m,\u001b[0m \u001b[0mnorm\u001b[0m\u001b[0;34m=\u001b[0m\u001b[0mnorm\u001b[0m\u001b[0;34m,\u001b[0m\u001b[0;34m\u001b[0m\u001b[0;34m\u001b[0m\u001b[0m\n\u001b[1;32m   2864\u001b[0m         \u001b[0mvmin\u001b[0m\u001b[0;34m=\u001b[0m\u001b[0mvmin\u001b[0m\u001b[0;34m,\u001b[0m \u001b[0mvmax\u001b[0m\u001b[0;34m=\u001b[0m\u001b[0mvmax\u001b[0m\u001b[0;34m,\u001b[0m \u001b[0malpha\u001b[0m\u001b[0;34m=\u001b[0m\u001b[0malpha\u001b[0m\u001b[0;34m,\u001b[0m \u001b[0mlinewidths\u001b[0m\u001b[0;34m=\u001b[0m\u001b[0mlinewidths\u001b[0m\u001b[0;34m,\u001b[0m\u001b[0;34m\u001b[0m\u001b[0;34m\u001b[0m\u001b[0m\n",
            "\u001b[0;32m/usr/local/lib/python3.10/dist-packages/matplotlib/__init__.py\u001b[0m in \u001b[0;36minner\u001b[0;34m(ax, data, *args, **kwargs)\u001b[0m\n\u001b[1;32m   1440\u001b[0m     \u001b[0;32mdef\u001b[0m \u001b[0minner\u001b[0m\u001b[0;34m(\u001b[0m\u001b[0max\u001b[0m\u001b[0;34m,\u001b[0m \u001b[0;34m*\u001b[0m\u001b[0margs\u001b[0m\u001b[0;34m,\u001b[0m \u001b[0mdata\u001b[0m\u001b[0;34m=\u001b[0m\u001b[0;32mNone\u001b[0m\u001b[0;34m,\u001b[0m \u001b[0;34m**\u001b[0m\u001b[0mkwargs\u001b[0m\u001b[0;34m)\u001b[0m\u001b[0;34m:\u001b[0m\u001b[0;34m\u001b[0m\u001b[0;34m\u001b[0m\u001b[0m\n\u001b[1;32m   1441\u001b[0m         \u001b[0;32mif\u001b[0m \u001b[0mdata\u001b[0m \u001b[0;32mis\u001b[0m \u001b[0;32mNone\u001b[0m\u001b[0;34m:\u001b[0m\u001b[0;34m\u001b[0m\u001b[0;34m\u001b[0m\u001b[0m\n\u001b[0;32m-> 1442\u001b[0;31m             \u001b[0;32mreturn\u001b[0m \u001b[0mfunc\u001b[0m\u001b[0;34m(\u001b[0m\u001b[0max\u001b[0m\u001b[0;34m,\u001b[0m \u001b[0;34m*\u001b[0m\u001b[0mmap\u001b[0m\u001b[0;34m(\u001b[0m\u001b[0msanitize_sequence\u001b[0m\u001b[0;34m,\u001b[0m \u001b[0margs\u001b[0m\u001b[0;34m)\u001b[0m\u001b[0;34m,\u001b[0m \u001b[0;34m**\u001b[0m\u001b[0mkwargs\u001b[0m\u001b[0;34m)\u001b[0m\u001b[0;34m\u001b[0m\u001b[0;34m\u001b[0m\u001b[0m\n\u001b[0m\u001b[1;32m   1443\u001b[0m \u001b[0;34m\u001b[0m\u001b[0m\n\u001b[1;32m   1444\u001b[0m         \u001b[0mbound\u001b[0m \u001b[0;34m=\u001b[0m \u001b[0mnew_sig\u001b[0m\u001b[0;34m.\u001b[0m\u001b[0mbind\u001b[0m\u001b[0;34m(\u001b[0m\u001b[0max\u001b[0m\u001b[0;34m,\u001b[0m \u001b[0;34m*\u001b[0m\u001b[0margs\u001b[0m\u001b[0;34m,\u001b[0m \u001b[0;34m**\u001b[0m\u001b[0mkwargs\u001b[0m\u001b[0;34m)\u001b[0m\u001b[0;34m\u001b[0m\u001b[0;34m\u001b[0m\u001b[0m\n",
            "\u001b[0;32m/usr/local/lib/python3.10/dist-packages/matplotlib/axes/_axes.py\u001b[0m in \u001b[0;36mscatter\u001b[0;34m(self, x, y, s, c, marker, cmap, norm, vmin, vmax, alpha, linewidths, edgecolors, plotnonfinite, **kwargs)\u001b[0m\n\u001b[1;32m   4582\u001b[0m         \u001b[0my\u001b[0m \u001b[0;34m=\u001b[0m \u001b[0mnp\u001b[0m\u001b[0;34m.\u001b[0m\u001b[0mma\u001b[0m\u001b[0;34m.\u001b[0m\u001b[0mravel\u001b[0m\u001b[0;34m(\u001b[0m\u001b[0my\u001b[0m\u001b[0;34m)\u001b[0m\u001b[0;34m\u001b[0m\u001b[0;34m\u001b[0m\u001b[0m\n\u001b[1;32m   4583\u001b[0m         \u001b[0;32mif\u001b[0m \u001b[0mx\u001b[0m\u001b[0;34m.\u001b[0m\u001b[0msize\u001b[0m \u001b[0;34m!=\u001b[0m \u001b[0my\u001b[0m\u001b[0;34m.\u001b[0m\u001b[0msize\u001b[0m\u001b[0;34m:\u001b[0m\u001b[0;34m\u001b[0m\u001b[0;34m\u001b[0m\u001b[0m\n\u001b[0;32m-> 4584\u001b[0;31m             \u001b[0;32mraise\u001b[0m \u001b[0mValueError\u001b[0m\u001b[0;34m(\u001b[0m\u001b[0;34m\"x and y must be the same size\"\u001b[0m\u001b[0;34m)\u001b[0m\u001b[0;34m\u001b[0m\u001b[0;34m\u001b[0m\u001b[0m\n\u001b[0m\u001b[1;32m   4585\u001b[0m \u001b[0;34m\u001b[0m\u001b[0m\n\u001b[1;32m   4586\u001b[0m         \u001b[0;32mif\u001b[0m \u001b[0ms\u001b[0m \u001b[0;32mis\u001b[0m \u001b[0;32mNone\u001b[0m\u001b[0;34m:\u001b[0m\u001b[0;34m\u001b[0m\u001b[0;34m\u001b[0m\u001b[0m\n",
            "\u001b[0;31mValueError\u001b[0m: x and y must be the same size"
          ]
        },
        {
          "output_type": "display_data",
          "data": {
            "text/plain": [
              "<Figure size 640x480 with 1 Axes>"
            ],
            "image/png": "[encoded data removed]"
          },
          "metadata": {}
        }
      ]
    },
    {
      "cell_type": "code",
      "source": [
        "with torch.no_grad():\n",
        "  output = network(example_data)"
      ],
      "metadata": {
        "colab": {
          "base_uri": "https://localhost:8080/"
        },
        "id": "dxPboZQLajPf",
        "outputId": "e92b1997-d989-4953-c305-a6cfd925964e"
      },
      "execution_count": null,
      "outputs": [
        {
          "output_type": "stream",
          "name": "stderr",
          "text": [
            "<ipython-input-8-6c2218f37724>:17: UserWarning: Implicit dimension choice for log_softmax has been deprecated. Change the call to include dim=X as an argument.\n",
            "  return F.log_softmax(x)\n"
          ]
        }
      ]
    },
    {
      "cell_type": "code",
      "source": [
        "fig = plt.figure()\n",
        "for i in range(6):\n",
        "  plt.subplot(2,3,i+1)\n",
        "  plt.tight_layout()\n",
        "  plt.imshow(example_data[i][0], cmap='gray', interpolation='none')\n",
        "  plt.title(\"Prediction: {}\".format(\n",
        "    output.data.max(1, keepdim=True)[1][i].item()))\n",
        "  plt.xticks([])\n",
        "  plt.yticks([])\n",
        "fig"
      ],
      "metadata": {
        "colab": {
          "base_uri": "https://localhost:8080/",
          "height": 859
        },
        "id": "_7Tf2VIqaq9P",
        "outputId": "da6ece91-e2d4-4d35-9406-2513b87fbbcc"
      },
      "execution_count": null,
      "outputs": [
        {
          "output_type": "execute_result",
          "data": {
            "text/plain": [
              "<Figure size 640x480 with 6 Axes>"
            ],
            "image/png": "[encoded data removed]"
          },
          "metadata": {},
          "execution_count": 18
        },
        {
          "output_type": "display_data",
          "data": {
            "text/plain": [
              "<Figure size 640x480 with 6 Axes>"
            ],
            "image/png": "[encoded data removed]"
          },
          "metadata": {}
        }
      ]
    },
    {
      "cell_type": "code",
      "source": [],
      "metadata": {
        "id": "S46692s5awdq"
      },
      "execution_count": null,
      "outputs": []
    }
  ]
}